{
 "cells": [
  {
   "cell_type": "markdown",
   "metadata": {},
   "source": [
    "Consider following code to answer further questions:\n",
    "\n",
    "import pandas as pd\n",
    "\n",
    "course_name = [‘Data Science’, ‘Machine Learning’, ‘Big Data’, ‘Data Engineer’]\n",
    "\n",
    "duration =  [2,3,6,4]\n",
    "\n",
    "df = pd.DataFrame(data = {‘course_name’ : course_name, ‘duration’ : duration})\n",
    "\n",
    "Q1. Write a code to print the data present in the second row of the dataframe, df."
   ]
  },
  {
   "cell_type": "code",
   "execution_count": 2,
   "metadata": {},
   "outputs": [
    {
     "name": "stdout",
     "output_type": "stream",
     "text": [
      "Data in the second row:\n",
      "course_name    Machine Learning\n",
      "duration                      3\n",
      "Name: 1, dtype: object\n"
     ]
    }
   ],
   "source": [
    "import pandas as pd\n",
    "\n",
    "course_name = ['Data Science', 'Machine Learning', 'Big Data', 'Data Engineer']\n",
    "duration = [2, 3, 6, 4]\n",
    "\n",
    "df = pd.DataFrame(data={'course_name': course_name, 'duration': duration})\n",
    "\n",
    "# Print the data in the second row\n",
    "second_row_data = df.iloc[1]\n",
    "print(\"Data in the second row:\")\n",
    "print(second_row_data)\n"
   ]
  },
  {
   "cell_type": "markdown",
   "metadata": {},
   "source": [
    "Q2. What is the difference between the functions loc and iloc in pandas.DataFrame?"
   ]
  },
  {
   "cell_type": "code",
   "execution_count": 3,
   "metadata": {},
   "outputs": [
    {
     "name": "stdout",
     "output_type": "stream",
     "text": [
      "Using loc:\n",
      "b\n",
      "\n",
      "Using iloc:\n",
      "b\n"
     ]
    }
   ],
   "source": [
    "import pandas as pd\n",
    "\n",
    "# Create a DataFrame\n",
    "data = {'A': [1, 2, 3, 4, 5],\n",
    "        'B': ['a', 'b', 'c', 'd', 'e']}\n",
    "df = pd.DataFrame(data, index=['row1', 'row2', 'row3', 'row4', 'row5'])\n",
    "\n",
    "# Using loc to select data by label\n",
    "loc_result = df.loc['row2', 'B']\n",
    "print(\"Using loc:\")\n",
    "print(loc_result)\n",
    "\n",
    "# Using iloc to select data by integer position\n",
    "iloc_result = df.iloc[1, 1]\n",
    "print(\"\\nUsing iloc:\")\n",
    "print(iloc_result)\n"
   ]
  },
  {
   "cell_type": "markdown",
   "metadata": {},
   "source": [
    "Q3. Reindex the given dataframe using a variable, reindex = [3,0,1,2] and store it in the variable, new_df \n",
    "then find the output for both new_df.loc[2] and new_df.iloc[2].\n",
    "\n"
   ]
  },
  {
   "cell_type": "code",
   "execution_count": 4,
   "metadata": {},
   "outputs": [
    {
     "name": "stdout",
     "output_type": "stream",
     "text": [
      "Output for new_df.loc[2]:\n",
      "column_1    0.924969\n",
      "column_2    0.136014\n",
      "column_3    0.066076\n",
      "column_4    0.997706\n",
      "column_5    0.006108\n",
      "column_6    0.806013\n",
      "Name: 2, dtype: float64\n",
      "\n",
      "Output for new_df.iloc[2]:\n",
      "column_1    0.216158\n",
      "column_2    0.527836\n",
      "column_3    0.821453\n",
      "column_4    0.924173\n",
      "column_5    0.822671\n",
      "column_6    0.650688\n",
      "Name: 1, dtype: float64\n"
     ]
    }
   ],
   "source": [
    "import pandas as pd\n",
    "import numpy as np\n",
    "\n",
    "columns = ['column_1', 'column_2', 'column_3', 'column_4', 'column_5', 'column_6']\n",
    "indices = [1, 2, 3, 4, 5, 6]\n",
    "\n",
    "# Creating a DataFrame:\n",
    "df1 = pd.DataFrame(np.random.rand(6, 6), columns=columns, index=indices)\n",
    "\n",
    "# Reindexing the DataFrame using the variable reindex\n",
    "reindex = [3, 0, 1, 2]\n",
    "new_df = df1.reindex(reindex)\n",
    "\n",
    "# Output for new_df.loc[2]\n",
    "loc_output = new_df.loc[2]\n",
    "\n",
    "# Output for new_df.iloc[2]\n",
    "iloc_output = new_df.iloc[2]\n",
    "\n",
    "# Display the results\n",
    "print(\"Output for new_df.loc[2]:\")\n",
    "print(loc_output)\n",
    "print(\"\\nOutput for new_df.iloc[2]:\")\n",
    "print(iloc_output)\n"
   ]
  },
  {
   "cell_type": "markdown",
   "metadata": {},
   "source": [
    "Did you observe any difference in both the outputs? If so then explain it.\n",
    "\n",
    "Consider the below code to answer further questions:\n",
    "import pandas as pd\n",
    "\n",
    "import numpy as np\n",
    "\n",
    "columns = ['column_1', 'column_2', 'column_3', 'column_4', 'column_5', 'column_6']\n",
    "\n",
    "indices = [1,2,3,4,5,6]\n",
    "\n",
    "#Creating a dataframe:\n",
    "\n",
    "df1 = pd.DataFrame(np.random.rand(6,6), columns = columns, index = indices)\n",
    "\n",
    "Q4. Write a code to find the following statistical measurements for the above dataframe df1:\n",
    "\n",
    "(i) \tmean of each and every column present in the dataframe.\n",
    "\n",
    "(ii) standard deviation of column, ‘column_2’"
   ]
  },
  {
   "cell_type": "code",
   "execution_count": 5,
   "metadata": {},
   "outputs": [
    {
     "name": "stdout",
     "output_type": "stream",
     "text": [
      "Mean of each column:\n",
      "column_1    0.465331\n",
      "column_2    0.409033\n",
      "column_3    0.338373\n",
      "column_4    0.453929\n",
      "column_5    0.485162\n",
      "column_6    0.525549\n",
      "dtype: float64\n",
      "\n",
      "Standard deviation of 'column_2': 0.23462363878931852\n"
     ]
    }
   ],
   "source": [
    "import pandas as pd\n",
    "import numpy as np\n",
    "\n",
    "columns = ['column_1', 'column_2', 'column_3', 'column_4', 'column_5', 'column_6']\n",
    "indices = [1, 2, 3, 4, 5, 6]\n",
    "\n",
    "# Creating a DataFrame:\n",
    "df1 = pd.DataFrame(np.random.rand(6, 6), columns=columns, index=indices)\n",
    "\n",
    "# (i) Mean of each and every column\n",
    "column_means = df1.mean()\n",
    "print(\"Mean of each column:\")\n",
    "print(column_means)\n",
    "\n",
    "# (ii) Standard deviation of 'column_2'\n",
    "std_dev_column_2 = df1['column_2'].std()\n",
    "print(\"\\nStandard deviation of 'column_2':\", std_dev_column_2)\n"
   ]
  },
  {
   "cell_type": "markdown",
   "metadata": {},
   "source": [
    "Q5. Replace the data present in the second row of column, ‘column_2’ by a string variable then find the \n",
    "mean of column, column_2.\n",
    "\n",
    "If you are getting errors in executing it then explain why.\n",
    "\n",
    "[Hint: To replace the data use df1.loc[] and equate this to string data of your choice.]"
   ]
  },
  {
   "cell_type": "code",
   "execution_count": 9,
   "metadata": {},
   "outputs": [
    {
     "name": "stdout",
     "output_type": "stream",
     "text": [
      "DataFrame with replaced data:\n",
      "   column_1   column_2  column_3  column_4  column_5  column_6\n",
      "1  0.544136   0.308010  0.549383  0.850775  0.378956  0.918896\n",
      "2  0.576050  42.000000  0.702603  0.850249  0.348576  0.838671\n",
      "3  0.222701   0.999154  0.942687  0.819420  0.483653  0.049417\n",
      "4  0.877377   0.181437  0.559597  0.121714  0.939108  0.892555\n",
      "5  0.900642   0.085188  0.220515  0.191145  0.694500  0.050197\n",
      "6  0.842751   0.397121  0.760931  0.383764  0.844771  0.993653\n",
      "\n",
      "Mean of 'column_2': 7.328485023065983\n"
     ]
    }
   ],
   "source": [
    "import pandas as pd\n",
    "import numpy as np\n",
    "\n",
    "columns = ['column_1', 'column_2', 'column_3', 'column_4', 'column_5', 'column_6']\n",
    "indices = [1, 2, 3, 4, 5, 6]\n",
    "\n",
    "# Creating a DataFrame:\n",
    "df1 = pd.DataFrame(np.random.rand(6, 6), columns=columns, index=indices)\n",
    "\n",
    "# Replace the data in the second row of 'column_2' with a numerical value (e.g., 42)\n",
    "df1.loc[2, 'column_2'] = 42\n",
    "\n",
    "# Find the mean of 'column_2'\n",
    "mean_column_2 = df1['column_2'].mean()\n",
    "\n",
    "# Display the DataFrame with replaced data\n",
    "print(\"DataFrame with replaced data:\")\n",
    "print(df1)\n",
    "\n",
    "# Display the mean of 'column_2'\n",
    "print(\"\\nMean of 'column_2':\", mean_column_2)\n"
   ]
  },
  {
   "cell_type": "markdown",
   "metadata": {},
   "source": [
    "Q6. What do you understand about the windows function in pandas and list the types of windows \n",
    "functions?"
   ]
  },
  {
   "cell_type": "code",
   "execution_count": 10,
   "metadata": {},
   "outputs": [
    {
     "name": "stdout",
     "output_type": "stream",
     "text": [
      "Original DataFrame:\n",
      "   value\n",
      "0     10\n",
      "1     15\n",
      "2     20\n",
      "3     25\n",
      "4     30\n",
      "\n",
      "Rolling Mean:\n",
      "0     NaN\n",
      "1    12.5\n",
      "2    17.5\n",
      "3    22.5\n",
      "4    27.5\n",
      "Name: value, dtype: float64\n",
      "Original DataFrame:\n",
      "   value\n",
      "0     10\n",
      "1     15\n",
      "2     20\n",
      "3     25\n",
      "4     30\n",
      "\n",
      "Expanding Sum:\n",
      "0     10.0\n",
      "1     25.0\n",
      "2     45.0\n",
      "3     70.0\n",
      "4    100.0\n",
      "Name: value, dtype: float64\n"
     ]
    }
   ],
   "source": [
    "import pandas as pd\n",
    "\n",
    "# Create a DataFrame with time series data\n",
    "data = {'value': [10, 15, 20, 25, 30]}\n",
    "df = pd.DataFrame(data)\n",
    "\n",
    "# Calculate the rolling mean with a window size of 2\n",
    "rolling_mean = df['value'].rolling(window=2).mean()\n",
    "\n",
    "# Display the DataFrame and the rolling mean\n",
    "print(\"Original DataFrame:\")\n",
    "print(df)\n",
    "print(\"\\nRolling Mean:\")\n",
    "print(rolling_mean)\n",
    "\n",
    "# Create a DataFrame with time series data\n",
    "data = {'value': [10, 15, 20, 25, 30]}\n",
    "df = pd.DataFrame(data)\n",
    "\n",
    "# Calculate the expanding sum\n",
    "expanding_sum = df['value'].expanding().sum()\n",
    "\n",
    "# Display the DataFrame and the expanding sum\n",
    "print(\"Original DataFrame:\")\n",
    "print(df)\n",
    "print(\"\\nExpanding Sum:\")\n",
    "print(expanding_sum)\n"
   ]
  },
  {
   "cell_type": "markdown",
   "metadata": {},
   "source": [
    "Q7. Write a code to print only the current month and year at the time of answering this question.\n",
    "\n",
    "[Hint: Use pandas.datetime function]"
   ]
  },
  {
   "cell_type": "code",
   "execution_count": 12,
   "metadata": {},
   "outputs": [
    {
     "name": "stdout",
     "output_type": "stream",
     "text": [
      "Current Month: 1\n",
      "Current Year: 2024\n"
     ]
    }
   ],
   "source": [
    "import pandas as pd\n",
    "from datetime import datetime\n",
    "\n",
    "current_datetime = datetime.today()\n",
    "\n",
    "current_pandas_datetime = pd.to_datetime(current_datetime)\n",
    "\n",
    "current_month = current_pandas_datetime.month\n",
    "current_year = current_pandas_datetime.year\n",
    "\n",
    "print(\"Current Month:\", current_month)\n",
    "print(\"Current Year:\", current_year)\n"
   ]
  },
  {
   "cell_type": "markdown",
   "metadata": {},
   "source": [
    "Q8. Write a Python program that takes in two dates as input (in the format YYYY-MM-DD) and \n",
    "calculates the difference between them in days, hours, and minutes using Pandas time delta. The \n",
    "program should prompt the user to enter the dates and display the result."
   ]
  },
  {
   "cell_type": "code",
   "execution_count": 16,
   "metadata": {},
   "outputs": [
    {
     "name": "stdout",
     "output_type": "stream",
     "text": [
      "\n",
      "Time Difference:\n",
      "Days: 14 days\n",
      "Hours: 0 hours\n",
      "Minutes: 0 minutes\n"
     ]
    },
    {
     "name": "stderr",
     "output_type": "stream",
     "text": [
      "C:\\Users\\parag\\AppData\\Local\\Temp\\ipykernel_12564\\2286342283.py:7: UserWarning: Parsing dates in %d-%m-%Y format when dayfirst=False (the default) was specified. Pass `dayfirst=True` or specify a format to silence this warning.\n",
      "  end_datetime = pd.to_datetime(end_date)\n"
     ]
    }
   ],
   "source": [
    "import pandas as pd\n",
    "\n",
    "# Function to calculate the time difference\n",
    "def calculate_time_difference(start_date, end_date):\n",
    "    # Convert input strings to datetime objects\n",
    "    start_datetime = pd.to_datetime(start_date)\n",
    "    end_datetime = pd.to_datetime(end_date)\n",
    "\n",
    "    # Calculate time difference\n",
    "    time_difference = end_datetime - start_datetime\n",
    "\n",
    "    # Extract days, hours, and minutes\n",
    "    days_difference = time_difference.days\n",
    "    hours_difference, remainder = divmod(time_difference.seconds, 3600)\n",
    "    minutes_difference, _ = divmod(remainder, 60)\n",
    "\n",
    "    return days_difference, hours_difference, minutes_difference\n",
    "\n",
    "# Get input from the user\n",
    "start_date_input = input(\"Enter the start date (YYYY-MM-DD): \")\n",
    "end_date_input = input(\"Enter the end date (YYYY-MM-DD): \")\n",
    "\n",
    "# Calculate time difference\n",
    "days, hours, minutes = calculate_time_difference(start_date_input, end_date_input)\n",
    "\n",
    "# Display the result\n",
    "print(\"\\nTime Difference:\")\n",
    "print(f\"Days: {days} days\")\n",
    "print(f\"Hours: {hours} hours\")\n",
    "print(f\"Minutes: {minutes} minutes\")\n"
   ]
  },
  {
   "cell_type": "markdown",
   "metadata": {},
   "source": [
    "Q9. Write a Python program that reads a CSV file containing categorical data and converts a specified \n",
    "column to a categorical data type. The program should prompt the user to enter the file path, column \n",
    "name, and category order, and then display the sorted data."
   ]
  },
  {
   "cell_type": "code",
   "execution_count": 18,
   "metadata": {},
   "outputs": [
    {
     "ename": "NameError",
     "evalue": "name 'category_order_str' is not defined",
     "output_type": "error",
     "traceback": [
      "\u001b[1;31m---------------------------------------------------------------------------\u001b[0m",
      "\u001b[1;31mNameError\u001b[0m                                 Traceback (most recent call last)",
      "Cell \u001b[1;32mIn[18], line 15\u001b[0m\n\u001b[0;32m     13\u001b[0m file_path \u001b[38;5;241m=\u001b[39m \u001b[38;5;28minput\u001b[39m(\u001b[38;5;124m\"\u001b[39m\u001b[38;5;124mEnter the CSV file path: \u001b[39m\u001b[38;5;124m\"\u001b[39m)\n\u001b[0;32m     14\u001b[0m column_name \u001b[38;5;241m=\u001b[39m \u001b[38;5;28minput\u001b[39m(\u001b[38;5;124m\"\u001b[39m\u001b[38;5;124mEnter the column name to convert to categorical: \u001b[39m\u001b[38;5;124m\"\u001b[39m)\n\u001b[1;32m---> 15\u001b[0m category_order \u001b[38;5;241m=\u001b[39m [category\u001b[38;5;241m.\u001b[39mstrip() \u001b[38;5;28;01mfor\u001b[39;00m category \u001b[38;5;129;01min\u001b[39;00m \u001b[43mcategory_order_str\u001b[49m\u001b[38;5;241m.\u001b[39msplit(\u001b[38;5;124m'\u001b[39m\u001b[38;5;124m,\u001b[39m\u001b[38;5;124m'\u001b[39m)]\n\u001b[0;32m     17\u001b[0m convert_to_categorical(file_path, column_name, category_order)\n",
      "\u001b[1;31mNameError\u001b[0m: name 'category_order_str' is not defined"
     ]
    }
   ],
   "source": [
    "import pandas as pd\n",
    "\n",
    "def convert_to_categorical(file_path, column_name, category_order):\n",
    "\n",
    "    df = pd.read_csv(file_path)\n",
    "\n",
    "    df[column_name] = pd.Categorical(df[column_name], categories=category_order, ordered=True)\n",
    "\n",
    "    sorted_data = df.sort_values(by=column_name)\n",
    "    print(\"\\nSorted Data:\")\n",
    "    print(sorted_data)\n",
    "\n",
    "file_path = input(\"Enter the CSV file path: \")\n",
    "column_name = input(\"Enter the column name to convert to categorical: \")\n",
    "category_order = [category.strip() for category in category_order_str.split(',')]\n",
    "\n",
    "convert_to_categorical(file_path, column_name, category_order)\n"
   ]
  },
  {
   "cell_type": "markdown",
   "metadata": {},
   "source": [
    "Q10. Write a Python program that reads a CSV file containing sales data for different products and \n",
    "visualizes the data using a stacked bar chart to show the sales of each product category over time. The \n",
    "program should prompt the user to enter the file path and display the chart."
   ]
  },
  {
   "cell_type": "code",
   "execution_count": null,
   "metadata": {},
   "outputs": [],
   "source": [
    "import pandas as pd\n",
    "import matplotlib.pyplot as plt\n",
    "\n",
    "# Function to read CSV file and visualize sales data using a stacked bar chart\n",
    "def visualize_sales_data(file_path):\n",
    "    # Read CSV file into a DataFrame\n",
    "    df = pd.read_csv(file_path)\n",
    "\n",
    "    if 'Date' not in df.columns or 'Category' not in df.columns:\n",
    "        print(\"Error: The CSV file should contain 'Date' and 'Category' columns.\")\n",
    "        return\n",
    "\n",
    "    df['Date'] = pd.to_datetime(df['Date'])\n",
    "\n",
    "    pivot_df = df.pivot(index='Date', columns='Category', values='Sales').fillna(0)\n",
    "\n",
    "    pivot_df.plot(kind='bar', stacked=True, figsize=(10, 6))\n",
    "\n",
    "    plt.title('Sales Data Over Time by Category')\n",
    "    plt.xlabel('Date')\n",
    "    plt.ylabel('Sales')\n",
    "    plt.legend(title='Category', loc='upper left', bbox_to_anchor=(1, 1))\n",
    "\n",
    "    plt.show()\n",
    "\n",
    "file_path = input(\"Enter the CSV file path: \")\n",
    "\n",
    "visualize_sales_data(file_path)\n"
   ]
  },
  {
   "cell_type": "markdown",
   "metadata": {},
   "source": [
    "Q11. You are given a CSV file containing student data that includes the student ID and their test score. Write \n",
    "a Python program that reads the CSV file, calculates the mean, median, and mode of the test scores, and \n",
    "displays the results in a table.\n",
    "The program should do the followingM\n",
    "I Prompt the user to enter the file path of the CSV file containing the student dataR\n",
    "I Read the CSV file into a Pandas DataFrameR\n",
    "I Calculate the mean, median, and mode of the test scores using Pandas toolsR\n",
    "I Display the mean, median, and mode in a table.\n",
    "\n",
    "Assume the CSV file contains the following columnsM\n",
    "I Student ID: The ID of the studentR\n",
    "I Test Score: The score of the student's test.\n",
    "Example usage of the program:\n",
    "\n",
    "Enter the file path of the CSV file containing the student data: student_data.csv\n",
    "\n",
    "\n",
    "+-----------+--------+\n",
    "\n",
    "| Statistic | Value  |\n",
    "\n",
    "+-----------+--------+\n",
    "\n",
    "| Mean      | 79.6   |\n",
    "\n",
    "| Median    | 82     |\n",
    "\n",
    "| Mode      | 85, 90 |\n",
    "\n",
    "+-----------+--------+\n",
    "\n",
    "\n",
    "Assume that the CSV file student_data.csv contains the following data:\n",
    "\n",
    "Student ID,Test Score\n",
    "\n",
    "1,85\n",
    "\n",
    "2,90\n",
    "\n",
    "3,80\n",
    "\n",
    "4,75\n",
    "\n",
    "5,85\n",
    "\n",
    "6,82\n",
    "\n",
    "7,78\n",
    "\n",
    "8,85\n",
    "\n",
    "9,90\n",
    "\n",
    "10,85\n",
    "\n",
    "\n",
    "The program should calculate the mean, median, and mode of the test scores and display the results \n",
    "in a table."
   ]
  },
  {
   "cell_type": "code",
   "execution_count": null,
   "metadata": {},
   "outputs": [],
   "source": [
    "\n",
    "import pandas as pd\n",
    "\n",
    "# Function to calculate mean, median, and mode of test scores and display results in a table\n",
    "def calculate_statistics(file_path):\n",
    "    # Read CSV file into a DataFrame\n",
    "    df = pd.read_csv(file_path)\n",
    "\n",
    "    # Ensure that the DataFrame has columns 'Student ID' and 'Test Score' (adjust as needed)\n",
    "    if 'Test Score' not in df.columns:\n",
    "        print(\"Error: The CSV file should contain a 'Test Score' column.\")\n",
    "        return\n",
    "\n",
    "    # Calculate mean, median, and mode\n",
    "    mean_score = df['Test Score'].mean()\n",
    "    median_score = df['Test Score'].median()\n",
    "    mode_scores = df['Test Score'].mode()\n",
    "\n",
    "    # Display results in a table\n",
    "    results_table = pd.DataFrame({\n",
    "        'Statistic': ['Mean', 'Median', 'Mode'],\n",
    "        'Value': [mean_score, median_score, ', '.join(map(str, mode_scores))]\n",
    "    })\n",
    "\n",
    "    print(\"\\nResults Table:\")\n",
    "    print(results_table.to_string(index=False))\n",
    "\n",
    "# Get input from the user\n",
    "file_path = input(\"Enter the file path of the CSV file containing the student data: \")\n",
    "\n",
    "# Call the function with user input\n",
    "calculate_statistics(file_path)\n"
   ]
  }
 ],
 "metadata": {
  "kernelspec": {
   "display_name": "Python 3",
   "language": "python",
   "name": "python3"
  },
  "language_info": {
   "codemirror_mode": {
    "name": "ipython",
    "version": 3
   },
   "file_extension": ".py",
   "mimetype": "text/x-python",
   "name": "python",
   "nbconvert_exporter": "python",
   "pygments_lexer": "ipython3",
   "version": "3.11.3"
  }
 },
 "nbformat": 4,
 "nbformat_minor": 2
}
